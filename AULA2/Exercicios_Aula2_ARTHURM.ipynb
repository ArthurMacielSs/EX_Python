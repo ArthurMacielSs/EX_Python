{
 "cells": [
  {
   "cell_type": "code",
   "execution_count": 6,
   "metadata": {},
   "outputs": [
    {
     "name": "stdout",
     "output_type": "stream",
     "text": [
      "your list is [0, -98, 27, 39, 0, 1, -7, 0, 125, -2]\n",
      " the number of 0 in the list is: 3\n",
      "the sum of all itens in the list is 85 \n",
      " the smaller iten in the list is -98\n",
      " the bigger iten in the list is 125\n",
      " the average of all the itens in the list is 8.5\n"
     ]
    }
   ],
   "source": [
    "qtd = int(input(\" write how many numbers you want to add in the list\"))\n",
    "if(qtd>0):\n",
    "    i=1\n",
    "    List =[]\n",
    "    for i in range(0, qtd):\n",
    "        add =int(input(f\" write the {i} number\"))\n",
    "        List.append(add)\n",
    "else:\n",
    "    print(\"write at least 1 item\")\n",
    "\n",
    "print(f\"your list is {List}\")\n",
    "soma = sum(List)\n",
    "mi = min(List)\n",
    "ma = max(List)\n",
    "average =  soma/len(List)\n",
    "Oqtd = List.count(0)\n",
    "print(f\" the number of 0 in the list is: {Oqtd}\")\n",
    "print(f\"the sum of all itens in the list is {sum(List)} \")\n",
    "print(f\" the smaller iten in the list is {mi}\")\n",
    "print(f\" the bigger iten in the list is {ma}\")\n",
    "print(f\" the average of all the itens in the list is {average}\")"
   ]
  },
  {
   "cell_type": "code",
   "execution_count": 25,
   "metadata": {},
   "outputs": [
    {
     "name": "stdout",
     "output_type": "stream",
     "text": [
      "['.NET', 'C', 'C#', 'C++', 'Java', 'Python', 'Ruby']\n",
      "[6, 1, 5, 2, 3, 0, 4]\n"
     ]
    }
   ],
   "source": [
    "text = input(\"Type the words separated by spaces: \")\n",
    "originalist = text.split(' ')\n",
    "newlist = sorted(originalist)\n",
    "newlist.sort()\n",
    "print(newlist)\n",
    "indexes = []\n",
    "for i in range(0,len(newlist)):\n",
    "    for j in range(0,len(newlist)):\n",
    "        if(newlist[i] == originalist[j]):\n",
    "            indexes.append(j)\n",
    "print(indexes)\n",
    "            \n",
    "    \n"
   ]
  }
 ],
 "metadata": {
  "kernelspec": {
   "display_name": "Python 3",
   "language": "python",
   "name": "python3"
  },
  "language_info": {
   "codemirror_mode": {
    "name": "ipython",
    "version": 3
   },
   "file_extension": ".py",
   "mimetype": "text/x-python",
   "name": "python",
   "nbconvert_exporter": "python",
   "pygments_lexer": "ipython3",
   "version": "3.8.10"
  },
  "orig_nbformat": 4
 },
 "nbformat": 4,
 "nbformat_minor": 2
}
