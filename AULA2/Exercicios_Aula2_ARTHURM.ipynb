{
 "cells": [
  {
   "cell_type": "code",
   "execution_count": 11,
   "metadata": {},
   "outputs": [
    {
     "name": "stdout",
     "output_type": "stream",
     "text": [
      "[12, 12]\n"
     ]
    },
    {
     "ename": "TypeError",
     "evalue": "'int' object is not callable",
     "output_type": "error",
     "traceback": [
      "\u001b[0;31m---------------------------------------------------------------------------\u001b[0m",
      "\u001b[0;31mTypeError\u001b[0m                                 Traceback (most recent call last)",
      "\u001b[1;32m/home/alunos/Documentos/GitHub/EX_Python/AULA2/Exercicios_Aula2_ARTHURM.ipynb Célula 1\u001b[0m line \u001b[0;36m1\n\u001b[1;32m      <a href='vscode-notebook-cell:/home/alunos/Documentos/GitHub/EX_Python/AULA2/Exercicios_Aula2_ARTHURM.ipynb#W0sZmlsZQ%3D%3D?line=8'>9</a>\u001b[0m     \u001b[39mprint\u001b[39m(\u001b[39m\"\u001b[39m\u001b[39mwrite at least 1 item\u001b[39m\u001b[39m\"\u001b[39m)\n\u001b[1;32m     <a href='vscode-notebook-cell:/home/alunos/Documentos/GitHub/EX_Python/AULA2/Exercicios_Aula2_ARTHURM.ipynb#W0sZmlsZQ%3D%3D?line=10'>11</a>\u001b[0m \u001b[39mprint\u001b[39m(List)\n\u001b[0;32m---> <a href='vscode-notebook-cell:/home/alunos/Documentos/GitHub/EX_Python/AULA2/Exercicios_Aula2_ARTHURM.ipynb#W0sZmlsZQ%3D%3D?line=11'>12</a>\u001b[0m \u001b[39mprint\u001b[39m(\u001b[39msum\u001b[39;49m(List))\n\u001b[1;32m     <a href='vscode-notebook-cell:/home/alunos/Documentos/GitHub/EX_Python/AULA2/Exercicios_Aula2_ARTHURM.ipynb#W0sZmlsZQ%3D%3D?line=13'>14</a>\u001b[0m \u001b[39m# soma = sum(List)\u001b[39;00m\n\u001b[1;32m     <a href='vscode-notebook-cell:/home/alunos/Documentos/GitHub/EX_Python/AULA2/Exercicios_Aula2_ARTHURM.ipynb#W0sZmlsZQ%3D%3D?line=14'>15</a>\u001b[0m \u001b[39m#mi = min(List)\u001b[39;00m\n\u001b[1;32m     <a href='vscode-notebook-cell:/home/alunos/Documentos/GitHub/EX_Python/AULA2/Exercicios_Aula2_ARTHURM.ipynb#W0sZmlsZQ%3D%3D?line=15'>16</a>\u001b[0m \u001b[39m# ma = max(List)\u001b[39;00m\n\u001b[0;32m   (...)\u001b[0m\n\u001b[1;32m     <a href='vscode-notebook-cell:/home/alunos/Documentos/GitHub/EX_Python/AULA2/Exercicios_Aula2_ARTHURM.ipynb#W0sZmlsZQ%3D%3D?line=22'>23</a>\u001b[0m \u001b[39m# print(f\" the bigger iten in the list is {ma}\")\u001b[39;00m\n\u001b[1;32m     <a href='vscode-notebook-cell:/home/alunos/Documentos/GitHub/EX_Python/AULA2/Exercicios_Aula2_ARTHURM.ipynb#W0sZmlsZQ%3D%3D?line=23'>24</a>\u001b[0m \u001b[39m# print(f\" the average of all the itens in the list is {average}\")\u001b[39;00m\n",
      "\u001b[0;31mTypeError\u001b[0m: 'int' object is not callable"
     ]
    }
   ],
   "source": [
    "qtd = int(input(\" write how many numbers you want to add in the list\"))\n",
    "if(qtd>0):\n",
    "    i=1\n",
    "    List =[]\n",
    "    for i in range(0, qtd):\n",
    "        add =int(input(f\" write the {i} number\"))\n",
    "        List.append(add)\n",
    "else:\n",
    "    print(\"write at least 1 item\")\n",
    "\n",
    "print(List)\n",
    "print(sum(List))\n",
    "\n",
    "# soma = sum(List)\n",
    "#mi = min(List)\n",
    "# ma = max(List)\n",
    "# average =  sum/len(List)\n",
    "# Oqtd = List.count(0)\n",
    "# print(f\" the number of 0 in the list is: {Oqtd}\")\n",
    "# print(f\"the sum of all itens in the list is {sum(List)} \")\n",
    "\n",
    "# print(f\" the smaller iten in the list is {mi}\")\n",
    "# print(f\" the bigger iten in the list is {ma}\")\n",
    "# print(f\" the average of all the itens in the list is {average}\")"
   ]
  }
 ],
 "metadata": {
  "kernelspec": {
   "display_name": "Python 3",
   "language": "python",
   "name": "python3"
  },
  "language_info": {
   "codemirror_mode": {
    "name": "ipython",
    "version": 3
   },
   "file_extension": ".py",
   "mimetype": "text/x-python",
   "name": "python",
   "nbconvert_exporter": "python",
   "pygments_lexer": "ipython3",
   "version": "3.8.10"
  },
  "orig_nbformat": 4
 },
 "nbformat": 4,
 "nbformat_minor": 2
}
