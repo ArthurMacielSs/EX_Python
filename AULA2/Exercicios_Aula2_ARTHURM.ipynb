{
 "cells": [
  {
   "cell_type": "code",
   "execution_count": 34,
   "metadata": {},
   "outputs": [
    {
     "name": "stdout",
     "output_type": "stream",
     "text": [
      "your list is [12, 12]\n",
      " the number of 0 in the list is: 0\n",
      "the sum of all itens in the list is 24 \n",
      " the smaller iten in the list is 12\n",
      " the bigger iten in the list is 12\n",
      " the average of all the itens in the list is 12.0\n"
     ]
    }
   ],
   "source": [
    "qtd = int(input(\" write how many numbers you want to add in the list\"))\n",
    "if(qtd>0):\n",
    "    i=1\n",
    "    List =[]\n",
    "    for i in range(0, qtd):\n",
    "        add =int(input(f\" write the {i} number\"))\n",
    "        List.append(add)\n",
    "else:\n",
    "    print(\"write at least 1 item\")\n",
    "\n",
    "print(f\"your list is {List}\")\n",
    "soma = sum(List)\n",
    "mi = min(List)\n",
    "ma = max(List)\n",
    "average =  soma/len(List)\n",
    "Oqtd = List.count(0)\n",
    "print(f\" the number of 0 in the list is: {Oqtd}\")\n",
    "print(f\"the sum of all itens in the list is {sum(List)} \")\n",
    "print(f\" the smaller iten in the list is {mi}\")\n",
    "print(f\" the bigger iten in the list is {ma}\")\n",
    "print(f\" the average of all the itens in the list is {average}\")"
   ]
  },
  {
   "cell_type": "code",
   "execution_count": 35,
   "metadata": {},
   "outputs": [
    {
     "name": "stdout",
     "output_type": "stream",
     "text": [
      "['.NET', 'C', 'C#', 'C++', 'Java', 'Python', 'Ruby']\n",
      "[6, 1, 5, 2, 3, 0, 4]\n"
     ]
    }
   ],
   "source": [
    "text = input(\"Type the words separated by spaces: \")\n",
    "originalist = text.split(' ')\n",
    "newlist = sorted(originalist)\n",
    "\n",
    "print(newlist)\n",
    "indexes = []\n",
    "for i in range(0,len(newlist)):\n",
    "    for j in range(0,len(newlist)):\n",
    "        if(newlist[i] == originalist[j]):\n",
    "            indexes.append(j)\n",
    "print(indexes)\n",
    "            \n",
    "    \n"
   ]
  },
  {
   "cell_type": "code",
   "execution_count": 45,
   "metadata": {},
   "outputs": [
    {
     "name": "stdout",
     "output_type": "stream",
     "text": [
      "['11', '23', '26', '45', '83', '84', '85', '85', '85', '86', '86']\n"
     ]
    }
   ],
   "source": [
    "original = input(\"Type the numbers separated by spaces: \")\n",
    "listone = original.split(' ')\n",
    "sortlist = sorted(listone)\n",
    "print(sortlist)\n",
    "sizelist= len(sortlist)\n",
    "for i in range(0,sizelist):\n",
    "    maior =  sortlist[sizelist]\n",
    "    qtd = List.count(maior)\n",
    "    segundo = (sortlist[sizelist]-qtd)\n",
    "    qtd = List.count(segundo)\n",
    "\n",
    "\n",
    "\n"
   ]
  }
 ],
 "metadata": {
  "kernelspec": {
   "display_name": "Python 3",
   "language": "python",
   "name": "python3"
  },
  "language_info": {
   "codemirror_mode": {
    "name": "ipython",
    "version": 3
   },
   "file_extension": ".py",
   "mimetype": "text/x-python",
   "name": "python",
   "nbconvert_exporter": "python",
   "pygments_lexer": "ipython3",
   "version": "3.8.10"
  },
  "orig_nbformat": 4
 },
 "nbformat": 4,
 "nbformat_minor": 2
}
