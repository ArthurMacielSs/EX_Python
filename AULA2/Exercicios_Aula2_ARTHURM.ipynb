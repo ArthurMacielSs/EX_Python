{
 "cells": [
  {
   "cell_type": "code",
   "execution_count": 19,
   "metadata": {},
   "outputs": [
    {
     "ename": "ValueError",
     "evalue": "invalid literal for int() with base 10: ''",
     "output_type": "error",
     "traceback": [
      "\u001b[0;31m---------------------------------------------------------------------------\u001b[0m",
      "\u001b[0;31mValueError\u001b[0m                                Traceback (most recent call last)",
      "\u001b[1;32m/home/alunos/Documentos/GitHub/EX_Python/AULA2/Exercicios_Aula2_ARTHURM.ipynb Célula 1\u001b[0m line \u001b[0;36m1\n\u001b[0;32m----> <a href='vscode-notebook-cell:/home/alunos/Documentos/GitHub/EX_Python/AULA2/Exercicios_Aula2_ARTHURM.ipynb#W0sZmlsZQ%3D%3D?line=0'>1</a>\u001b[0m qtd \u001b[39m=\u001b[39m \u001b[39mint\u001b[39;49m(\u001b[39minput\u001b[39;49m(\u001b[39m\"\u001b[39;49m\u001b[39m write how many numbers you want to add in the list\u001b[39;49m\u001b[39m\"\u001b[39;49m))\n\u001b[1;32m      <a href='vscode-notebook-cell:/home/alunos/Documentos/GitHub/EX_Python/AULA2/Exercicios_Aula2_ARTHURM.ipynb#W0sZmlsZQ%3D%3D?line=1'>2</a>\u001b[0m \u001b[39mif\u001b[39;00m(qtd\u001b[39m>\u001b[39m\u001b[39m0\u001b[39m):\n\u001b[1;32m      <a href='vscode-notebook-cell:/home/alunos/Documentos/GitHub/EX_Python/AULA2/Exercicios_Aula2_ARTHURM.ipynb#W0sZmlsZQ%3D%3D?line=2'>3</a>\u001b[0m     i\u001b[39m=\u001b[39m\u001b[39m1\u001b[39m\n",
      "\u001b[0;31mValueError\u001b[0m: invalid literal for int() with base 10: ''"
     ]
    }
   ],
   "source": [
    "#1\n",
    "qtd = int(input(\" write how many numbers you want to add in the list\"))\n",
    "if(qtd>0):\n",
    "    i=1\n",
    "    List =[]\n",
    "    for i in range(0, qtd):\n",
    "        add =int(input(f\" write the {i} number\"))\n",
    "        List.append(add)\n",
    "else:\n",
    "    print(\"write at least 1 item\")\n",
    "\n",
    "print(f\"your list is {List}\")\n",
    "soma = sum(List)\n",
    "mi = min(List)\n",
    "ma = max(List)\n",
    "average =  soma/len(List)\n",
    "Oqtd = List.count(0)\n",
    "print(f\" the number of 0 in the list is: {Oqtd}\")\n",
    "print(f\"the sum of all itens in the list is {sum(List)} \")\n",
    "print(f\" the smaller iten in the list is {mi}\")\n",
    "print(f\" the bigger iten in the list is {ma}\")\n",
    "print(f\" the average of all the itens in the list is {average}\")"
   ]
  },
  {
   "cell_type": "code",
   "execution_count": null,
   "metadata": {},
   "outputs": [
    {
     "name": "stdout",
     "output_type": "stream",
     "text": [
      "['.NET', 'C', 'C#', 'C++', 'Java', 'Python', 'Ruby']\n",
      "[6, 1, 5, 2, 3, 0, 4]\n"
     ]
    }
   ],
   "source": [
    "#2\n",
    "text = input(\"Type the words separated by spaces: \")\n",
    "originalist = text.split(' ')\n",
    "newlist = sorted(originalist)\n",
    "\n",
    "print(newlist)\n",
    "indexes = []\n",
    "for i in range(0,len(newlist)):\n",
    "    for j in range(0,len(newlist)):\n",
    "        if(newlist[i] == originalist[j]):\n",
    "            indexes.append(j)\n",
    "print(indexes)\n",
    "            \n",
    "    \n"
   ]
  },
  {
   "cell_type": "code",
   "execution_count": 24,
   "metadata": {},
   "outputs": [
    {
     "name": "stdout",
     "output_type": "stream",
     "text": [
      "first: 86 0\n",
      "second: 85 2\n",
      "third: 84 8\n"
     ]
    }
   ],
   "source": [
    "#3\n",
    "# takes user data and saves it in two lists, one ordered and the other not\n",
    "original = input(\"Type the numbers separated by spaces: \")\n",
    "listone = original.split(' ')\n",
    "sortlist = sorted(listone)\n",
    "\n",
    "\n",
    "\n",
    "#separates the biggest values ​​into another list\n",
    "biggerslist = []\n",
    "qtd = 0\n",
    "while (len(biggerslist) <3):\n",
    "    maior = sortlist[len(sortlist) -1 - qtd]\n",
    "    qtd = qtd + sortlist.count(maior)\n",
    "    biggerslist.append(maior)\n",
    "\n",
    "\n",
    "#creates another list and adds the indices corresponding to the biggest values ​​to it\n",
    "idxlist =[]\n",
    "for i in range(0,len(biggerslist)):\n",
    "     for j in range(0,len(listone)):\n",
    "          if(biggerslist[i] == listone[j]):\n",
    "            tri = listone[j]\n",
    "            newvalue =listone.index(listone[j])\n",
    "            if (listone[j] in idxlist):\n",
    "              print(\"teste\")  \n",
    "            else:\n",
    "                idxlist.append(newvalue) \n",
    "                break;\n",
    "\n",
    "\n",
    "\n",
    "\n",
    "\n",
    "\n",
    "# print the result \n",
    "print(f\"first: {biggerslist[0]} {idxlist[0]}\")\n",
    "print(f\"second: {biggerslist[1]} {idxlist[1]}\")\n",
    "print(f\"third: {biggerslist[2]} {idxlist[2]}\")\n",
    "\n",
    "\n",
    "            \n",
    "\n",
    "\n",
    "\n"
   ]
  },
  {
   "cell_type": "code",
   "execution_count": 5,
   "metadata": {},
   "outputs": [
    {
     "name": "stdout",
     "output_type": "stream",
     "text": [
      "['z', 12, 'a', 10]\n",
      "['a', 'z']\n",
      "[12, 10]\n",
      "['a', 10, 'z', 12]\n"
     ]
    }
   ],
   "source": [
    "#4\n",
    "loop = int(input(\"write how many products you want to add\"))\n",
    "generalList= []\n",
    "nameList =[]\n",
    "numberList=[]\n",
    "sortList=[]\n",
    "\n",
    "for i in range(loop):\n",
    "    product = str(input(\" write the name of the product\"))\n",
    "    generalList.append(product)\n",
    "    price  = int(input(\" write the price \"))\n",
    "    generalList.append(price)\n",
    "\n",
    "for i in range(0, len(generalList), 2):\n",
    "    nameList.append(generalList[i])\n",
    "\n",
    "for i in range(1, len(generalList), 2):\n",
    "    numberList.append(generalList[i]) \n",
    "nameList.sort()\n",
    "\n",
    "\n",
    "for i in range(0, len(nameList), 1):\n",
    "    for j in range(0, len(generalList), 2):\n",
    "        if nameList[i]==generalList[j]:\n",
    "            sortList.append(generalList[j])\n",
    "            sortList.append(generalList[j+1])\n",
    "    \n",
    "    \n",
    "\n",
    "\n",
    "        \n",
    "\n",
    "\n",
    "print(sortList)\n",
    "\n",
    "\n",
    "    \n",
    "\n"
   ]
  },
  {
   "cell_type": "code",
   "execution_count": 17,
   "metadata": {},
   "outputs": [
    {
     "name": "stdout",
     "output_type": "stream",
     "text": [
      "[1, 2, 5, 7, 11, 13]\n",
      "[1, 4, 25, 49, 121, 169]\n"
     ]
    }
   ],
   "source": [
    "#5\n",
    "nlist =list(map(int, input(f\"write the number of the list \").split()))\n",
    "quadrado = [n**2 for n in nlist]\n",
    "\n",
    "\n",
    "print(nlist)\n",
    "print (quadrado)"
   ]
  },
  {
   "cell_type": "code",
   "execution_count": 18,
   "metadata": {},
   "outputs": [
    {
     "name": "stdout",
     "output_type": "stream",
     "text": [
      "14\n"
     ]
    }
   ],
   "source": [
    "#6\n",
    "def createListOfList():\n",
    "    lista = []\n",
    "    for i in range(3):  \n",
    "        linha = list(map(int, input(f\"write the numbers for the  {i+1} line separated by spaces: \").split()))\n",
    "        lista.append(linha)\n",
    "    return lista\n",
    "\n",
    "lista = createListOfList()\n",
    "diagonal = [lista[i][j] for i in range(0,3) for j in range(0,3)if i==j]\n",
    "print(sum(diagonal))\n"
   ]
  },
  {
   "cell_type": "code",
   "execution_count": 34,
   "metadata": {},
   "outputs": [
    {
     "name": "stdout",
     "output_type": "stream",
     "text": [
      "4\n"
     ]
    }
   ],
   "source": [
    "#7\n",
    "#Luana Ju Davi Vivi Pri Cleo\n",
    "#complementary functions\n",
    "def vogal_conter(word):\n",
    "        vogal = \"aeiouAEIOU\"\n",
    "        conter = 0\n",
    "        for letter in word:\n",
    "            if letter in vogal:\n",
    "                conter += 1\n",
    "        return conter\n",
    "\n",
    "#main functions\n",
    "def size_plus_one_list(lista):\n",
    "  userlen = int(input(\"write the size \"))\n",
    "  cont =0\n",
    "  for i in range(0,len(lista)):\n",
    "    if(len(lista[i])>userlen):\n",
    "        cont += 1\n",
    "  print(cont)\n",
    "        \n",
    "\n",
    "\n",
    "def amount_vog(lista):\n",
    "  vogal_size = []\n",
    "  for word in lista:\n",
    "        total_vogais = vogal_conter(word)\n",
    "        vogal_size.append(total_vogais)\n",
    "  return vogal_size\n",
    "  \n",
    "def same_size(lista):\n",
    "  cont =0\n",
    "  sizes = []\n",
    "  equalsize = []\n",
    "  finalist =[]\n",
    "  for i in range(0,len(lista)):\n",
    "     w\n",
    "    # for j in range(0,len(lista),1):\n",
    "    #   if(len(lista[i])==len(lista[j])):\n",
    "    #     if (len(lista[i])not in sizes):\n",
    "    #        sizes.append(len(lista[i]))\n",
    "    #        if(lista[i]==lista[j]):\n",
    "    #         print()\n",
    "\n",
    "def encription(lista):\n",
    "  print(\"4\")\n",
    "\n",
    "\n",
    "#menu()\n",
    "def menu():\n",
    "  lista = input(\"Type the words separated by spaces: \").split()\n",
    "  verify = 0\n",
    "  while (verify!=5):\n",
    "    if(verify==1):\n",
    "      size_plus_one_list(lista)\n",
    "\n",
    "    if(verify==2):\n",
    "      amount_size=amount_vog(lista)\n",
    "      print(amount_size)\n",
    "\n",
    "    if(verify==3):\n",
    "      same_size(lista)\n",
    "\n",
    "    if(verify==4):\n",
    "      encription(lista)\n",
    "    \n",
    "\n",
    "    verify=int(input(\"write the number according to the option (1) write a number and get the size of the list according to that number (2)get the amount o vogals in wich element of the list (3)get a list with numbers with the same size (4)get the encryption elements (5)to leave\"))\n",
    "\n",
    "menu()\n"
   ]
  }
 ],
 "metadata": {
  "kernelspec": {
   "display_name": "Python 3",
   "language": "python",
   "name": "python3"
  },
  "language_info": {
   "codemirror_mode": {
    "name": "ipython",
    "version": 3
   },
   "file_extension": ".py",
   "mimetype": "text/x-python",
   "name": "python",
   "nbconvert_exporter": "python",
   "pygments_lexer": "ipython3",
   "version": "3.8.10"
  },
  "orig_nbformat": 4
 },
 "nbformat": 4,
 "nbformat_minor": 2
}
