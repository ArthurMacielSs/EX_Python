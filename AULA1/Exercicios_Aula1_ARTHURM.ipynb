{
 "cells": [
  {
   "cell_type": "code",
   "execution_count": null,
   "metadata": {},
   "outputs": [
    {
     "ename": "",
     "evalue": "",
     "output_type": "error",
     "traceback": [
      "\u001b[1;31mO kernel não pôde ser iniciado porque \"TypeAlias\" não pôde ser importado de \"/usr/lib/python3/dist-packages/typing_extensions.py\".\n",
      "\u001b[1;31mClique <a href=\"https://aka.ms/kernelFailuresModuleImportErrFromFile\">aqui</a> para obter mais informações."
     ]
    }
   ],
   "source": [
    "#EX1\n",
    "\n",
    "#Faça um programa que solicite do usuário três números reais e imprima a soma deles com duas casas decimais de precisão.\n",
    "\n",
    "print(\" write 3 numbers a, b e c \")\n",
    "x = float(input(\"a: \"))\n",
    "y = float(input(\"b: \"))\n",
    "c = float(input(\"c: \"))\n",
    "print(\" the sum is %.2f\" % (x + y +c))\n",
    "         "
   ]
  },
  {
   "cell_type": "code",
   "execution_count": null,
   "metadata": {},
   "outputs": [
    {
     "ename": "",
     "evalue": "",
     "output_type": "error",
     "traceback": [
      "\u001b[1;31mO kernel não pôde ser iniciado porque \"TypeAlias\" não pôde ser importado de \"/usr/lib/python3/dist-packages/typing_extensions.py\".\n",
      "\u001b[1;31mClique <a href=\"https://aka.ms/kernelFailuresModuleImportErrFromFile\">aqui</a> para obter mais informações."
     ]
    }
   ],
   "source": [
    "#EX2\n",
    "\n",
    "#Leia um valor real correspondente a uma temperatura em graus Celsius e apresente-a convertida em graus Fahrenheit. Antes de imprimir, converta o valor em Fahrenheit para inteiro. Fórmula de conversão: F=C∗(9.0/5.0)+32.0, sendo C o valor em graus Celsius e F o valor em Fahrenheit.\n",
    "\n",
    "celsius = float(input(\" write the temperature in Celsius\"))\n",
    "fahrenheit=float(celsius*(9.0/5.0)+32.0)\n",
    "print(\"the temperature in fahrenheit is %.0f\" %(fahrenheit))\n"
   ]
  },
  {
   "cell_type": "code",
   "execution_count": null,
   "metadata": {},
   "outputs": [
    {
     "ename": "",
     "evalue": "",
     "output_type": "error",
     "traceback": [
      "\u001b[1;31mO kernel não pôde ser iniciado porque \"TypeAlias\" não pôde ser importado de \"/usr/lib/python3/dist-packages/typing_extensions.py\".\n",
      "\u001b[1;31mClique <a href=\"https://aka.ms/kernelFailuresModuleImportErrFromFile\">aqui</a> para obter mais informações."
     ]
    }
   ],
   "source": [
    "#EX3\n",
    "\n",
    "#Leia do usuário um valor em dólar e a cotação do dólar. Converta o valor de acordo com a cotação e imprima o valor convertido em reais. Formate a saída como apresentado a seguir: R$ 327,00\n",
    "print(\"convert dollars into reais\")\n",
    "dvalue = float(input(\"write the dollar value: \"))\n",
    "rate = float(input(\"write the exchange rate:  \"))\n",
    "rvalue = float( dvalue * rate)\n",
    "print(\" this value in reals is: R$ %.2f\" %(rvalue))"
   ]
  },
  {
   "cell_type": "code",
   "execution_count": null,
   "metadata": {},
   "outputs": [
    {
     "ename": "",
     "evalue": "",
     "output_type": "error",
     "traceback": [
      "\u001b[1;31mO kernel não pôde ser iniciado porque \"TypeAlias\" não pôde ser importado de \"/usr/lib/python3/dist-packages/typing_extensions.py\".\n",
      "\u001b[1;31mClique <a href=\"https://aka.ms/kernelFailuresModuleImportErrFromFile\">aqui</a> para obter mais informações."
     ]
    }
   ],
   "source": [
    "#EX4\n",
    "\n",
    "#Uma empresa contrata um encanador a R$ 30,00 por dia. Faça um programa que solicite o número de dias trabalhados pelo encanador e imprima a quantia líquida que deverá se paga, sabendo-se que são descontados 8% para imposto de renda.\n",
    "days = int(input(\"write the number of days: \"))\n",
    "value = 30\n",
    "tax = 8\n",
    "total = 30 * days\n",
    "print(f\" the value without tax is {total} \")\n",
    "totalT= total * (100-tax)/100\n",
    "print (f\" the value with tax is { totalT} \")"
   ]
  },
  {
   "cell_type": "code",
   "execution_count": null,
   "metadata": {},
   "outputs": [
    {
     "ename": "",
     "evalue": "",
     "output_type": "error",
     "traceback": [
      "\u001b[1;31mO kernel não pôde ser iniciado porque \"TypeAlias\" não pôde ser importado de \"/usr/lib/python3/dist-packages/typing_extensions.py\".\n",
      "\u001b[1;31mClique <a href=\"https://aka.ms/kernelFailuresModuleImportErrFromFile\">aqui</a> para obter mais informações."
     ]
    }
   ],
   "source": [
    "#EX5\n",
    "\n",
    "#Considere que os valores (inteiros e positivos) para as variáveis a, b e c correspondem aos lados de um triângulo retângulo com catetos a e b, e hipotenusa c. Determinar a área do triângulo pela fórmula:\n",
    "\n",
    "x = float(input(\" write the firts cateto  \"))\n",
    "y = float(input(\"write the second  cateto \"))\n",
    "c = float(input(\"write the hipotenusa \"))\n",
    "if (c**2 != x**2 + y**2):\n",
    "    print(\"isnt a right triangle\")\n",
    "else:\n",
    "    s= (x + y +c )/2\n",
    "    area = (s*(s-x)*(s-y)*(s-c))**(1/2)\n",
    "    print(f\" the sum is {s}\")\n",
    "    print(f\" the area is {area}\")\n",
    "\n"
   ]
  },
  {
   "cell_type": "code",
   "execution_count": null,
   "metadata": {},
   "outputs": [
    {
     "ename": "",
     "evalue": "",
     "output_type": "error",
     "traceback": [
      "\u001b[1;31mO kernel não pôde ser iniciado porque \"TypeAlias\" não pôde ser importado de \"/usr/lib/python3/dist-packages/typing_extensions.py\".\n",
      "\u001b[1;31mClique <a href=\"https://aka.ms/kernelFailuresModuleImportErrFromFile\">aqui</a> para obter mais informações."
     ]
    }
   ],
   "source": [
    "#EX6\n",
    "\n",
    "#Escreva um programa que, dados dois números inteiros, mostre na tela o maior deles, assim como a diferença existente entre ambos.\n",
    "x= float(input(\"write the first number: \"))\n",
    "y= float(input(\"write the second number: \"))\n",
    "\n",
    "if(y<x):\n",
    "    print(f\"the biggest number is {x} \")\n",
    "    distance = float(x - y)\n",
    "    print(f\"the difference between {x} and {y} is {distance}\")\n",
    "elif(x<y):\n",
    "    print(f\"the biggest number is {y} \")\n",
    "    distance = float(y - x)\n",
    "    print(f\"the distance between {y} and {x} is {distance}\")\n",
    "else: \n",
    "    print(\" the numbers are equals\")\n",
    "\n",
    "\n"
   ]
  },
  {
   "cell_type": "code",
   "execution_count": 1,
   "metadata": {},
   "outputs": [
    {
     "name": "stdout",
     "output_type": "stream",
     "text": [
      " it is leap year\n"
     ]
    }
   ],
   "source": [
    "#EX7\n",
    "\n",
    "#Considere a seguinte definição de ano bissexto (ano em que o mês de fevereiro tem 29 dias):• Um ano não divisível por 100 e divisível por 4 é bissexto; • Um ano divisível por 400 é bissexto; • Os demais anos não são bissextos. Escreva um programa que leia um ano do usuário e imprime se aquele é um ano bissexto.\"\"\"\n",
    "\n",
    "year = int(input(\" write the year: \"))\n",
    "\n",
    "if (year%100 !=0)  and (year%4==0):\n",
    "    print(\" it is leap year\")\n",
    "elif (year%400==0):\n",
    "    print(\" it is leap year\")\n",
    "else:\n",
    "    print(\" it isnt leap year\")"
   ]
  },
  {
   "cell_type": "code",
   "execution_count": null,
   "metadata": {},
   "outputs": [
    {
     "ename": "",
     "evalue": "",
     "output_type": "error",
     "traceback": [
      "\u001b[1;31mO kernel não pôde ser iniciado porque \"TypeAlias\" não pôde ser importado de \"/usr/lib/python3/dist-packages/typing_extensions.py\".\n",
      "\u001b[1;31mClique <a href=\"https://aka.ms/kernelFailuresModuleImportErrFromFile\">aqui</a> para obter mais informações."
     ]
    }
   ],
   "source": [
    "#EX8\n",
    "\n",
    "\n",
    "#Faça um programa para verificar se um determinado número inteiro é divisível por 3 ou por 5, mas não simultaneamente pelos dois. SAIDA TRUE OU FALSE\"\"\"\n",
    "number = float(input(\" write the number\"))\n",
    "if(number%3==0 and number%5!=0):\n",
    "    print(\"divisible only by 3 \")\n",
    "elif(number%5==0 and number%3!=0):\n",
    "    print(\"divisible only by 5 \")\n",
    "else:\n",
    "    print(\"not divisible by 3 and 5\")\n",
    "\n"
   ]
  },
  {
   "cell_type": "code",
   "execution_count": null,
   "metadata": {},
   "outputs": [
    {
     "ename": "",
     "evalue": "",
     "output_type": "error",
     "traceback": [
      "\u001b[1;31mO kernel não pôde ser iniciado porque \"TypeAlias\" não pôde ser importado de \"/usr/lib/python3/dist-packages/typing_extensions.py\".\n",
      "\u001b[1;31mClique <a href=\"https://aka.ms/kernelFailuresModuleImportErrFromFile\">aqui</a> para obter mais informações."
     ]
    }
   ],
   "source": [
    "#EX9\n",
    "\n",
    "\n",
    "#Leia a idade, o sexo (M ou F) e o tempo de serviço de um trabalhador e escreva se ele pode ou não se aposentar. As condições para aposentadoria são: • Para mulheres ter mais de 60 anos. Para homens, 65. • Ou ter trabalhado pelo menos 30 anos • Ou ter 60 anos e trabalhado pelo menos 25.\"\"\"\n",
    "age = int(input(\"write the age: \"))\n",
    "sex = str(input(\" write the sex (M or F): \"))\n",
    "wt = float(input(\"write the work time: \"))\n",
    "if(wt>=30):\n",
    "    print(\"can retire\")\n",
    "elif(age>=60 and wt>=25):\n",
    "    print(\"can retire\")\n",
    "elif (sex=='M' and age>65):  \n",
    "    print(\"can retire\")\n",
    "elif(sex=='F' and age>60):\n",
    "    print(\"can retire\")\n",
    "else:\n",
    "    print (\" cant retire\")\n"
   ]
  },
  {
   "cell_type": "code",
   "execution_count": null,
   "metadata": {},
   "outputs": [
    {
     "ename": "",
     "evalue": "",
     "output_type": "error",
     "traceback": [
      "\u001b[1;31mO kernel não pôde ser iniciado porque \"TypeAlias\" não pôde ser importado de \"/usr/lib/python3/dist-packages/typing_extensions.py\".\n",
      "\u001b[1;31mClique <a href=\"https://aka.ms/kernelFailuresModuleImportErrFromFile\">aqui</a> para obter mais informações."
     ]
    }
   ],
   "source": [
    "#EX10\n",
    "\n",
    "#Faça um programa que receba a altura e o peso de uma pessoa. De acordo com a tabela a seguir, verifique e mostre qual a classificação dessa pessoa.\"\"\"\n",
    "height = float(input(\"write the height: \"))\n",
    "weight = float(input(\" write the weight: \"))\n",
    "\n",
    "if (height<1.5):\n",
    "    if(weight<=60):\n",
    "        print(\"classification a \")\n",
    "    elif(60<=weight<=90):\n",
    "        print(\"classification d\")\n",
    "    else:\n",
    "        print(\"classification g\")\n",
    "elif (height<=1.8):\n",
    "    if(weight<=60):\n",
    "        print(\"classification b\")\n",
    "    elif(60<=weight<=90):\n",
    "        print(\"classification e\")\n",
    "    else:\n",
    "        print(\"classification h\")\n",
    "else:\n",
    "    if(weight<=60):\n",
    "        print(\"classification c\")\n",
    "    elif(60<=weight<=90):\n",
    "        print(\"classification f\")\n",
    "    else:\n",
    "        print(\"classification i\")\n",
    "\n",
    "\n"
   ]
  },
  {
   "cell_type": "code",
   "execution_count": null,
   "metadata": {},
   "outputs": [
    {
     "ename": "",
     "evalue": "",
     "output_type": "error",
     "traceback": [
      "\u001b[1;31mO kernel não pôde ser iniciado porque \"TypeAlias\" não pôde ser importado de \"/usr/lib/python3/dist-packages/typing_extensions.py\".\n",
      "\u001b[1;31mClique <a href=\"https://aka.ms/kernelFailuresModuleImportErrFromFile\">aqui</a> para obter mais informações."
     ]
    }
   ],
   "source": [
    "#EX11\n",
    "\n",
    "#Faça um menu que apresente quatro opções de média (Geométrica, Ponderada,Harmônica e Aritmética). Após o usuário selecionar a média desejada, solicite três números inteiros positivos e apresente o cálculo da média solicitada.\"\"\"\n",
    "\n",
    "average = int(input(\"enter the number according to the desired average 1(Geometric) 2(Weighted) 3(Harmonic) 4(Arithmetic)\"))\n",
    "x = float(input(\" write the first number: \"))\n",
    "y = float(input(\" write the second number: \"))\n",
    "c = float(input(\" write the third number\"))\n",
    "\n",
    "if(average==1):\n",
    "    result= (x*y*c)**1/3\n",
    "    print(f\" the result is {result}\")\n",
    "elif(average==4):\n",
    "    result= (x+y+c)/3\n",
    "    print(f\" the result is {result}\")\n",
    "elif(average==2):\n",
    "    result= (x + y*2 + c*3)/6\n",
    "    print(f\" the result is {result}\")\n",
    "elif(average==3):\n",
    "    result= (1/((1/x)+(1/y)+ (1/c)))\n",
    "    print(f\" the result is {result}\")\n",
    "else:\n",
    "    print(\" invalid number\")\n"
   ]
  },
  {
   "cell_type": "code",
   "execution_count": null,
   "metadata": {},
   "outputs": [
    {
     "ename": "",
     "evalue": "",
     "output_type": "error",
     "traceback": [
      "\u001b[1;31mO kernel não pôde ser iniciado porque \"TypeAlias\" não pôde ser importado de \"/usr/lib/python3/dist-packages/typing_extensions.py\".\n",
      "\u001b[1;31mClique <a href=\"https://aka.ms/kernelFailuresModuleImportErrFromFile\">aqui</a> para obter mais informações."
     ]
    }
   ],
   "source": [
    "#EX12\n",
    "\n",
    "#Escreva um programa para cálculo do máximo divisor comum (MDC) entre dois números.\"\"\"\n",
    "\n",
    "x = int(input(\" write the first number\"))\n",
    "y = int(input(\"write the second number\"))\n",
    "i=1\n",
    "\n",
    "while i< x:\n",
    "    if(x%i==0 and y%i==0):\n",
    "        multiple = i\n",
    "    i += 1\n",
    "\n",
    "print(f\" the mdc is { multiple}\")"
   ]
  },
  {
   "cell_type": "code",
   "execution_count": null,
   "metadata": {},
   "outputs": [
    {
     "ename": "",
     "evalue": "",
     "output_type": "error",
     "traceback": [
      "\u001b[1;31mO kernel não pôde ser iniciado porque \"TypeAlias\" não pôde ser importado de \"/usr/lib/python3/dist-packages/typing_extensions.py\".\n",
      "\u001b[1;31mClique <a href=\"https://aka.ms/kernelFailuresModuleImportErrFromFile\">aqui</a> para obter mais informações."
     ]
    }
   ],
   "source": [
    "#EX13\n",
    "\n",
    "#Escreva um programa que leia dois inteiros N e M, e imprima todos os números ímpares maiores que N e menores que M.\"\"\"\n",
    "\n",
    "x = int(input(\"write the first number (the smaller)\"))\n",
    "y = int(input(\"write the second number (the bigger)\"))\n",
    "interval = y -x\n",
    "i=1\n",
    "while(i<interval):\n",
    "    if((x+i)%2!=0):\n",
    "        print(x + i)\n",
    "    i += 1\n",
    "\n",
    "\n"
   ]
  },
  {
   "cell_type": "code",
   "execution_count": null,
   "metadata": {},
   "outputs": [
    {
     "ename": "",
     "evalue": "",
     "output_type": "error",
     "traceback": [
      "\u001b[1;31mO kernel não pôde ser iniciado porque \"TypeAlias\" não pôde ser importado de \"/usr/lib/python3/dist-packages/typing_extensions.py\".\n",
      "\u001b[1;31mClique <a href=\"https://aka.ms/kernelFailuresModuleImportErrFromFile\">aqui</a> para obter mais informações."
     ]
    }
   ],
   "source": [
    "#EX14\n",
    "\n",
    "#Escreva um programa que leia um número positivo N e imprima N linhas do triângulo ordenado. Um triângulo ordenado pode ser visto abaixo, para o caso N = 6.\"\"\"\n",
    "number = int(input(\"Write a number\"))\n",
    "\n",
    "n=1\n",
    "\n",
    "for i in range(0, number+1):\n",
    "    for j in range (0, i):\n",
    "        print(n, end=\" \")\n",
    "        n = n + 1\n",
    "    print()\n"
   ]
  },
  {
   "cell_type": "code",
   "execution_count": null,
   "metadata": {},
   "outputs": [
    {
     "ename": "",
     "evalue": "",
     "output_type": "error",
     "traceback": [
      "\u001b[1;31mO kernel não pôde ser iniciado porque \"TypeAlias\" não pôde ser importado de \"/usr/lib/python3/dist-packages/typing_extensions.py\".\n",
      "\u001b[1;31mClique <a href=\"https://aka.ms/kernelFailuresModuleImportErrFromFile\">aqui</a> para obter mais informações."
     ]
    }
   ],
   "source": [
    "#EX15\n",
    "\n",
    "#Uma empreiteira paga seus pedreiros por metros quadrados de serviços produzidos diariamente, adicionando também o valor do almoço e passagem para irem e voltar do trabalho. Essa construtora procurou você para desenvolver um sistema que calcula quanto ela deve pagar para cada um de seus pedreiros. Apresente um programa que resolva o problema citado. O programa deverá receber: 15.1.O valor do vale-alimentação; 15.2.O valor do transporte unitário (a cada dia o pedreiro usa 2 vales); 15.3.Quantos metros quadrados trabalhou; O valor do metro quadrado é calculado da seguinte forma: Ao final, o programa deve imprimir a seguinte mensagem: “O pedreiro deve receber R$ X”, onde x é o valor a ser pago.\"\"\"\n",
    "mw = float(input(\"write how many square meters the mason worked: \"))\n",
    "transport = float(input(\" write the ticket coust:\"))\n",
    "alimentation = float(input(\" write the food voucher value:\"))\n",
    "transportQtd = 2\n",
    "if(mw<10):\n",
    "    valueMv=10\n",
    "elif(mw>=10 and mw<20):\n",
    "    valueMv=11.5\n",
    "else:\n",
    "    valueMv=13\n",
    "\n",
    "total= (valueMv*mw)+ (transportQtd*transport)+alimentation\n",
    "print(f\" the total is { total}\")"
   ]
  },
  {
   "cell_type": "code",
   "execution_count": null,
   "metadata": {},
   "outputs": [
    {
     "ename": "",
     "evalue": "",
     "output_type": "error",
     "traceback": [
      "\u001b[1;31mO kernel não pôde ser iniciado porque \"TypeAlias\" não pôde ser importado de \"/usr/lib/python3/dist-packages/typing_extensions.py\".\n",
      "\u001b[1;31mClique <a href=\"https://aka.ms/kernelFailuresModuleImportErrFromFile\">aqui</a> para obter mais informações."
     ]
    }
   ],
   "source": [
    "#EX16\n",
    "\n",
    "#Escreva um programa que retorna a soma dos termos de uma Progressão Aritmética de n termos, com termo inicial a razão real r. Peça os valores do usuário.\"\"\"\n",
    "terms = float(input(\"write how many terms the arithmetic progression have: \"))\n",
    "initial = float(input(\"write the initial term:\"))\n",
    "ratio = float(input(\"write the arithmetic progression ratio:\"))\n",
    "\n",
    "\n",
    "lasTerm= initial + (terms - 1)*ratio\n",
    "sumM = ((initial + lasTerm) * terms)/2\n",
    "\n",
    "print(f\" the arithmetic progression sum is {sumM} \")"
   ]
  },
  {
   "cell_type": "code",
   "execution_count": null,
   "metadata": {},
   "outputs": [
    {
     "ename": "",
     "evalue": "",
     "output_type": "error",
     "traceback": [
      "\u001b[1;31mO kernel não pôde ser iniciado porque \"TypeAlias\" não pôde ser importado de \"/usr/lib/python3/dist-packages/typing_extensions.py\".\n",
      "\u001b[1;31mClique <a href=\"https://aka.ms/kernelFailuresModuleImportErrFromFile\">aqui</a> para obter mais informações."
     ]
    }
   ],
   "source": [
    "#EX17\n",
    "\n",
    "#Escreva um programa que escreve na tela todos os múltiplos de n entre 0 e x, inclusive,separados por vírgula.\"\"\"\n",
    "n = int(input(\" write the number you want to find the multiples of: \"))\n",
    "x = int(input(\" write the last number in the range: \"))\n",
    "\n",
    "for i in range(x+1):\n",
    "    if (i%n==0):\n",
    "        print(f\"{ i},\" , end=\"\")\n",
    "        \n"
   ]
  },
  {
   "cell_type": "code",
   "execution_count": 8,
   "metadata": {},
   "outputs": [
    {
     "name": "stdout",
     "output_type": "stream",
     "text": [
      " 0\n",
      "3h:4m:25s\n",
      "24h:0m:0s\n",
      "saiu\n"
     ]
    }
   ],
   "source": [
    "#EX18\n",
    "def is_prime(numero):\n",
    "    i =1\n",
    "    conta=0\n",
    "    for i in range(1,numero+1):\n",
    "        if(numero%i==0):\n",
    "            conta += 1\n",
    "    if (conta<3):\n",
    "        return 1\n",
    "    else:\n",
    "        return 2\n",
    "\n",
    "def mdc(x, y):\n",
    "    while y:\n",
    "        x, y = y, x % y\n",
    "    return x\n",
    "\n",
    "def mmc(x, y):\n",
    "    return abs(x * y) // mdc(x, y)\n",
    "\n",
    "def add_digits(x):\n",
    "    sum = 0\n",
    "    while x > 0:\n",
    "        digito = x % 10  \n",
    "        sum += digito  \n",
    "        x //= 10         \n",
    "    return sum\n",
    "\n",
    "def nth_prime(n):\n",
    "    primesFinded = 0\n",
    "    number = 2\n",
    "    while primesFinded < n:\n",
    "        if is_prime(number)==1:\n",
    "            primesFinded += 1\n",
    "            if primesFinded == n:\n",
    "                return number\n",
    "        number += 1\n",
    "\n",
    "def add_hours(h, m, s):\n",
    "    s = s+1\n",
    "    if(s>59):\n",
    "        s=0\n",
    "        m +=1\n",
    "    if(m>59):\n",
    "        m=0\n",
    "        h +=1\n",
    "    if(h>24):\n",
    "        h=1\n",
    "    print(f\"{h}h:{m}m:{s}s\")\n",
    "\n",
    "def menu_principal():\n",
    "    controller=0\n",
    "    print(f\" {controller}\")\n",
    "    #não tenho math case (versão python antigo)\n",
    "\n",
    "    while controller != 6:\n",
    "        controller = int(input(\" enter the prime numbers according to the action you are going to perform (1)see if a number is prime (2)calculate the mmc between two numbers (3)add the digits of a number (4)write a number and see which prime is equivalent to it (5)write 3 numbers, one for hours, one for minutes, one for seconds and receive the time plus one second (6)to leave\"))\n",
    "        if(controller ==1):\n",
    "           numero = int(input(\" write the number that you want to find if it is prime: \"))\n",
    "           verifi =is_prime(numero)\n",
    "           if(verifi==1):\n",
    "               print(f\" {numero} is prime\")\n",
    "           else:\n",
    "               print(f\" {numero} isnt prime\")\n",
    "           \n",
    "\n",
    "        elif(controller ==2):\n",
    "            x = int(input(\" write the first number you want to calculate the mmc: \"))\n",
    "            y = int(input(\" write the second number: \"))\n",
    "            if(x==y):\n",
    "                print(\" write two different numbers\")\n",
    "\n",
    "                controller =7 #numero diferente para voltar ao menu \n",
    "            else:\n",
    "                Multiple = mmc(x, y)\n",
    "                print(f\"the mmc is {Multiple}\")\n",
    "                \n",
    "        elif(controller ==3):\n",
    "            num = int(input(\"write the number that you want to add the digits to: \"))\n",
    "            sum=add_digits(num)\n",
    "            print(f\"the sum is {sum}\")\n",
    "\n",
    "\n",
    "\n",
    "        elif(controller ==4):\n",
    "            n= int(input(\"write a number and find the equivalent prime\"))\n",
    "            equivalent = nth_prime(n)\n",
    "            print(f\" the equivalent prime is {equivalent}\")\n",
    "\n",
    "        elif(controller ==5):\n",
    "            hour = int(input(\" write the hours: \"))\n",
    "            minutes = int(input(\" write the minutes: \"))\n",
    "            seconds = int(input(\" write the seconds: \"))\n",
    "            add_hours(hour,minutes,seconds)\n",
    "\n",
    "        elif(controller ==6):\n",
    "            print(\"saiu\")\n",
    "\n",
    "\n",
    "\n",
    "menu_principal()\n",
    "\n",
    "\n",
    "\n"
   ]
  }
 ],
 "metadata": {
  "kernelspec": {
   "display_name": "Python 3",
   "language": "python",
   "name": "python3"
  },
  "language_info": {
   "codemirror_mode": {
    "name": "ipython",
    "version": 3
   },
   "file_extension": ".py",
   "mimetype": "text/x-python",
   "name": "python",
   "nbconvert_exporter": "python",
   "pygments_lexer": "ipython3",
   "version": "3.8.10"
  },
  "orig_nbformat": 4
 },
 "nbformat": 4,
 "nbformat_minor": 2
}
