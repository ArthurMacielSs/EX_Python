{
 "cells": [
  {
   "cell_type": "code",
   "execution_count": 5,
   "metadata": {},
   "outputs": [
    {
     "name": "stdout",
     "output_type": "stream",
     "text": [
      " write 3 numbers a, b e c \n"
     ]
    },
    {
     "ename": "ValueError",
     "evalue": "could not convert string to float: 'a'",
     "output_type": "error",
     "traceback": [
      "\u001b[0;31m---------------------------------------------------------------------------\u001b[0m",
      "\u001b[0;31mValueError\u001b[0m                                Traceback (most recent call last)",
      "\u001b[0;32m<ipython-input-5-a4cddbb0e22d>\u001b[0m in \u001b[0;36m<module>\u001b[0;34m\u001b[0m\n\u001b[1;32m      4\u001b[0m \u001b[0;34m\u001b[0m\u001b[0m\n\u001b[1;32m      5\u001b[0m \u001b[0mprint\u001b[0m\u001b[0;34m(\u001b[0m\u001b[0;34m\" write 3 numbers a, b e c \"\u001b[0m\u001b[0;34m)\u001b[0m\u001b[0;34m\u001b[0m\u001b[0;34m\u001b[0m\u001b[0m\n\u001b[0;32m----> 6\u001b[0;31m \u001b[0ma\u001b[0m \u001b[0;34m=\u001b[0m \u001b[0mfloat\u001b[0m\u001b[0;34m(\u001b[0m\u001b[0minput\u001b[0m\u001b[0;34m(\u001b[0m\u001b[0;34m\"a: \"\u001b[0m\u001b[0;34m)\u001b[0m\u001b[0;34m)\u001b[0m\u001b[0;34m\u001b[0m\u001b[0;34m\u001b[0m\u001b[0m\n\u001b[0m\u001b[1;32m      7\u001b[0m \u001b[0mb\u001b[0m \u001b[0;34m=\u001b[0m \u001b[0mfloat\u001b[0m\u001b[0;34m(\u001b[0m\u001b[0minput\u001b[0m\u001b[0;34m(\u001b[0m\u001b[0;34m\"b: \"\u001b[0m\u001b[0;34m)\u001b[0m\u001b[0;34m)\u001b[0m\u001b[0;34m\u001b[0m\u001b[0;34m\u001b[0m\u001b[0m\n\u001b[1;32m      8\u001b[0m \u001b[0mc\u001b[0m \u001b[0;34m=\u001b[0m \u001b[0mfloat\u001b[0m\u001b[0;34m(\u001b[0m\u001b[0minput\u001b[0m\u001b[0;34m(\u001b[0m\u001b[0;34m\"c: \"\u001b[0m\u001b[0;34m)\u001b[0m\u001b[0;34m)\u001b[0m\u001b[0;34m\u001b[0m\u001b[0;34m\u001b[0m\u001b[0m\n",
      "\u001b[0;31mValueError\u001b[0m: could not convert string to float: 'a'"
     ]
    }
   ],
   "source": [
    "#EX1\n",
    "\n",
    "#Faça um programa que solicite do usuário três números reais e imprima a soma deles com duas casas decimais de precisão.\n",
    "\n",
    "print(\" write 3 numbers a, b e c \")\n",
    "a = float(input(\"a: \"))\n",
    "b = float(input(\"b: \"))\n",
    "c = float(input(\"c: \"))\n",
    "print(\" the sum is %.2f\" % (a + b +c))\n",
    "         "
   ]
  },
  {
   "cell_type": "code",
   "execution_count": null,
   "metadata": {},
   "outputs": [
    {
     "name": "stdout",
     "output_type": "stream",
     "text": [
      "the temperature in fahrenheit is 37\n"
     ]
    }
   ],
   "source": [
    "#EX2\n",
    "\n",
    "#Leia um valor real correspondente a uma temperatura em graus Celsius e apresente-a convertida em graus Fahrenheit. Antes de imprimir, converta o valor em Fahrenheit para inteiro. Fórmula de conversão: F=C∗(9.0/5.0)+32.0, sendo C o valor em graus Celsius e F o valor em Fahrenheit.\n",
    "\n",
    "celsius = float(input(\" write the temperature in Celsius\"))\n",
    "fahrenheit=float(celsius*(9.0/5.0)+32.0)\n",
    "print(\"the temperature in fahrenheit is %.0f\" %(fahrenheit))\n"
   ]
  },
  {
   "cell_type": "code",
   "execution_count": null,
   "metadata": {},
   "outputs": [
    {
     "name": "stdout",
     "output_type": "stream",
     "text": [
      "convert dollars into reais\n",
      " this value in reals is: R$ 9.000000\n"
     ]
    }
   ],
   "source": [
    "#EX3\n",
    "\n",
    "#Leia do usuário um valor em dólar e a cotação do dólar. Converta o valor de acordo com a cotação e imprima o valor convertido em reais. Formate a saída como apresentado a seguir: R$ 327,00\n",
    "print(\"convert dollars into reais\")\n",
    "dvalue = float(input(\"write the dollar value: \"))\n",
    "rate = float(input(\"write the exchange rate:  \"))\n",
    "rvalue = float( dvalue * rate)\n",
    "print(\" this value in reals is: R$ %f\" %(rvalue))"
   ]
  },
  {
   "cell_type": "code",
   "execution_count": null,
   "metadata": {},
   "outputs": [
    {
     "name": "stdout",
     "output_type": "stream",
     "text": [
      " the value without tax is 150 \n",
      " the value with tax is 138.0 \n"
     ]
    }
   ],
   "source": [
    "#EX4\n",
    "\n",
    "#Uma empresa contrata um encanador a R$ 30,00 por dia. Faça um programa que solicite o número de dias trabalhados pelo encanador e imprima a quantia líquida que deverá se paga, sabendo-se que são descontados 8% para imposto de renda.\n",
    "days = int(input(\"write the number of days: \"))\n",
    "value = 30\n",
    "tax = 8\n",
    "total = 30 * days\n",
    "print(f\" the value without tax is {total} \")\n",
    "totalT= total * (100-tax)/100\n",
    "print (f\" the value with tax is { totalT} \")"
   ]
  },
  {
   "cell_type": "code",
   "execution_count": null,
   "metadata": {},
   "outputs": [
    {
     "name": "stdout",
     "output_type": "stream",
     "text": [
      " the sum is 12.0\n",
      " the area is 24.0\n"
     ]
    }
   ],
   "source": [
    "#EX5\n",
    "\n",
    "#Considere que os valores (inteiros e positivos) para as variáveis a, b e c correspondem aos lados de um triângulo retângulo com catetos a e b, e hipotenusa c. Determinar a área do triângulo pela fórmula:\n",
    "\n",
    "a = float(input(\" write the firts cateto  \"))\n",
    "b = float(input(\"write the second  cateto \"))\n",
    "c = float(input(\"write the hipotenusa \"))\n",
    "if (c**2 != a**2 + b**2):\n",
    "    print(\"isnt a right triangle\")\n",
    "else:\n",
    "    s= (a + b +c )/2\n",
    "    area = (s*(s-a)*(s-b)*(s-c))**(1/2)\n",
    "    print(f\" the sum is {s}\")\n",
    "    print(f\" the area is {area}\")\n",
    "\n"
   ]
  },
  {
   "cell_type": "code",
   "execution_count": null,
   "metadata": {},
   "outputs": [
    {
     "name": "stdout",
     "output_type": "stream",
     "text": [
      "the biggest number is 5.0 \n",
      "the difference between 5.0 and 3.0 is 2.0\n"
     ]
    }
   ],
   "source": [
    "#EX6\n",
    "\n",
    "#Escreva um programa que, dados dois números inteiros, mostre na tela o maior deles, assim como a diferença existente entre ambos.\n",
    "a= float(input(\"write the first number: \"))\n",
    "b= float(input(\"write the second number: \"))\n",
    "\n",
    "if(b<a):\n",
    "    print(f\"the biggest number is {a} \")\n",
    "    distance = float(a - b)\n",
    "    print(f\"the difference between {a} and {b} is {distance}\")\n",
    "elif(a<b):\n",
    "    print(f\"the biggest number is {b} \")\n",
    "    distance = float(b - a)\n",
    "    print(f\"the distance between {b} and {a} is {distance}\")\n",
    "else: \n",
    "    print(\" the numbers are equals\")\n",
    "\n",
    "\n"
   ]
  },
  {
   "cell_type": "code",
   "execution_count": null,
   "metadata": {},
   "outputs": [
    {
     "name": "stdout",
     "output_type": "stream",
     "text": [
      " it isnt leap year\n"
     ]
    }
   ],
   "source": [
    "#EX7\n",
    "\n",
    "#Considere a seguinte definição de ano bissexto (ano em que o mês de fevereiro tem 29 dias):• Um ano não divisível por 100 e divisível por 4 é bissexto; • Um ano divisível por 400 é bissexto; • Os demais anos não são bissextos. Escreva um programa que leia um ano do usuário e imprime se aquele é um ano bissexto.\"\"\"\n",
    "\n",
    "year = int(input(\" write the year: \"))\n",
    "\n",
    "if (year%100 !=0)  and (year%4==0):\n",
    "    print(\" it is leap year\")\n",
    "elif (year%400==0):\n",
    "    print(\" it is leap year\")\n",
    "else:\n",
    "    print(\" it isnt leap year\")"
   ]
  },
  {
   "cell_type": "code",
   "execution_count": null,
   "metadata": {},
   "outputs": [
    {
     "name": "stdout",
     "output_type": "stream",
     "text": [
      "not divisible by 3 and 5\n"
     ]
    }
   ],
   "source": [
    "#EX8\n",
    "\n",
    "\n",
    "#Faça um programa para verificar se um determinado número inteiro é divisível por 3 ou por 5, mas não simultaneamente pelos dois. SAIDA TRUE OU FALSE\"\"\"\n",
    "number = float(input(\" write the number\"))\n",
    "if(number%3==0 and number%5!=0):\n",
    "    print(\"divisible only by 3 \")\n",
    "elif(number%5==0 and number%3!=0):\n",
    "    print(\"divisible only by 5 \")\n",
    "else:\n",
    "    print(\"not divisible by 3 and 5\")\n",
    "\n"
   ]
  },
  {
   "cell_type": "code",
   "execution_count": null,
   "metadata": {},
   "outputs": [
    {
     "name": "stdout",
     "output_type": "stream",
     "text": [
      "can retire\n"
     ]
    }
   ],
   "source": [
    "#EX9\n",
    "\n",
    "\n",
    "#Leia a idade, o sexo (M ou F) e o tempo de serviço de um trabalhador e escreva se ele pode ou não se aposentar. As condições para aposentadoria são: • Para mulheres ter mais de 60 anos. Para homens, 65. • Ou ter trabalhado pelo menos 30 anos • Ou ter 60 anos e trabalhado pelo menos 25.\"\"\"\n",
    "age = int(input(\"write the age: \"))\n",
    "sex = str(input(\" write the sex (M or F): \"))\n",
    "wt = float(input(\"write the work time: \"))\n",
    "if(wt>=30):\n",
    "    print(\"can retire\")\n",
    "elif(age>=60 and wt>=25):\n",
    "    print(\"can retire\")\n",
    "else:\n",
    "    if (sex=='M'):\n",
    "        if(age>65):\n",
    "            print(\"can retire\")\n",
    "    elif(sex=='F'):\n",
    "        if(age>65):\n",
    "            print(\"can retire\")\n",
    "    elif(sex != 'M' and sex != 'F'):\n",
    "        print(\"invalid sex\")\n",
    "    else:\n",
    "        print (\" cant retire\")\n"
   ]
  },
  {
   "cell_type": "code",
   "execution_count": null,
   "metadata": {},
   "outputs": [
    {
     "name": "stdout",
     "output_type": "stream",
     "text": [
      "classification e\n"
     ]
    }
   ],
   "source": [
    "#EX10\n",
    "\n",
    "#Faça um programa que receba a altura e o peso de uma pessoa. De acordo com a tabela a seguir, verifique e mostre qual a classificação dessa pessoa.\"\"\"\n",
    "height = float(input(\"write the height: \"))\n",
    "weight = float(input(\" write the weight: \"))\n",
    "\n",
    "if (height<1.5):\n",
    "    if(weight<=60):\n",
    "        print(\"classification a \")\n",
    "    elif(height<=90):\n",
    "        print(\"classification d\")\n",
    "    else:\n",
    "        print(\"classification g\")\n",
    "elif (height<=1.8):\n",
    "    if(weight<=60):\n",
    "        print(\"classification b\")\n",
    "    elif(height<=90):\n",
    "        print(\"classification e\")\n",
    "    else:\n",
    "        print(\"classification h\")\n",
    "else:\n",
    "    if(weight<=60):\n",
    "        print(\"classification c\")\n",
    "    elif(height<=90):\n",
    "        print(\"classification f\")\n",
    "    else:\n",
    "        print(\"classification i\")\n",
    "\n",
    "\n"
   ]
  },
  {
   "cell_type": "code",
   "execution_count": null,
   "metadata": {},
   "outputs": [
    {
     "name": "stdout",
     "output_type": "stream",
     "text": [
      " the result is 2.0\n"
     ]
    }
   ],
   "source": [
    "#EX11\n",
    "\n",
    "#Faça um menu que apresente quatro opções de média (Geométrica, Ponderada,Harmônica e Aritmética). Após o usuário selecionar a média desejada, solicite três números inteiros positivos e apresente o cálculo da média solicitada.\"\"\"\n",
    "\n",
    "average = int(input(\"enter the number according to the desired average 1(Geometric) 2(Weighted) 3(Harmonic) 4(Arithmetic)\"))\n",
    "a = float(input(\" write the first number: \"))\n",
    "b = float(input(\" write the second number: \"))\n",
    "c = float(input(\" write the third number\"))\n",
    "\n",
    "if(average==1):\n",
    "    result= (a*b*c)**1/3\n",
    "    print(f\" the result is {result}\")\n",
    "elif(average==4):\n",
    "    result= (a+b+c)/3\n",
    "    print(f\" the result is {result}\")\n",
    "elif(average==2):\n",
    "    result= (a + b*2 + c*3)/6\n",
    "    print(f\" the result is {result}\")\n",
    "elif(average==3):\n",
    "    result= (1/((1/a)+(1/b)+ (1/c)))\n",
    "    print(f\" the result is {result}\")\n",
    "else:\n",
    "    print(\" invalid number\")\n"
   ]
  },
  {
   "cell_type": "code",
   "execution_count": null,
   "metadata": {},
   "outputs": [
    {
     "data": {
      "text/plain": [
       "'Escreva um programa para cálculo do máximo divisor comum (MDC) entre dois\\nnúmeros.'"
      ]
     },
     "execution_count": 278,
     "metadata": {},
     "output_type": "execute_result"
    }
   ],
   "source": [
    "#EX12\n",
    "\n",
    "#Escreva um programa para cálculo do máximo divisor comum (MDC) entre dois números.\"\"\"\n",
    "\n",
    "a = int(input(\" write the first number\"))\n",
    "b = int(input(\"write the second number\"))\n",
    "i=1\n",
    "\n",
    "while i< a:\n",
    "    if(a%i==0 and b%i==0):\n",
    "        multiple = i\n",
    "    i += 1\n",
    "\n",
    "print(f\" the mdc is { multiple}\")"
   ]
  },
  {
   "cell_type": "code",
   "execution_count": null,
   "metadata": {},
   "outputs": [
    {
     "name": "stdout",
     "output_type": "stream",
     "text": [
      "3\n",
      "4\n",
      "5\n"
     ]
    }
   ],
   "source": [
    "#EX13\n",
    "\n",
    "#Escreva um programa que leia dois inteiros N e M, e imprima todos os números ímpares maiores que N e menores que M.\"\"\"\n",
    "\n",
    "a = int(input(\"write the first number (the smaller)\"))\n",
    "b = int(input(\"write the second number (the bigger)\"))\n",
    "interval = b -a\n",
    "i=1\n",
    "while(i<interval):\n",
    "    print(a + i)\n",
    "    i += 1\n",
    "\n",
    "\n"
   ]
  },
  {
   "cell_type": "code",
   "execution_count": null,
   "metadata": {},
   "outputs": [
    {
     "name": "stdout",
     "output_type": "stream",
     "text": [
      "\n",
      "1 \n",
      "2 3 \n",
      "4 5 6 \n",
      "7 8 9 10 \n",
      "11 12 13 14 15 \n",
      "16 17 18 19 20 21 \n",
      "22 23 24 25 26 27 28 \n"
     ]
    }
   ],
   "source": [
    "#EX14\n",
    "\n",
    "#Escreva um programa que leia um número positivo N e imprima N linhas do triângulo ordenado. Um triângulo ordenado pode ser visto abaixo, para o caso N = 6.\"\"\"\n",
    "number = int(input(\"Write a number\"))\n",
    "\n",
    "n=1\n",
    "\n",
    "for i in range(0, number):\n",
    "    for j in range (0, i):\n",
    "        print(n, end=\" \")\n",
    "        n = n + 1\n",
    "    print()\n"
   ]
  },
  {
   "cell_type": "code",
   "execution_count": 10,
   "metadata": {},
   "outputs": [
    {
     "name": "stdout",
     "output_type": "stream",
     "text": [
      " the total is 260.0\n"
     ]
    }
   ],
   "source": [
    "#EX15\n",
    "\n",
    "#Uma empreiteira paga seus pedreiros por metros quadrados de serviços produzidos diariamente, adicionando também o valor do almoço e passagem para irem e voltar do trabalho. Essa construtora procurou você para desenvolver um sistema que calcula quanto ela deve pagar para cada um de seus pedreiros. Apresente um programa que resolva o problema citado. O programa deverá receber: 15.1.O valor do vale-alimentação; 15.2.O valor do transporte unitário (a cada dia o pedreiro usa 2 vales); 15.3.Quantos metros quadrados trabalhou; O valor do metro quadrado é calculado da seguinte forma: Ao final, o programa deve imprimir a seguinte mensagem: “O pedreiro deve receber R$ X”, onde x é o valor a ser pago.\"\"\"\n",
    "mw = float(input(\"write how many square meters the mason worked: \"))\n",
    "transport = float(input(\" write the ticket coust:\"))\n",
    "alimentation = float(input(\" write the food voucher value:\"))\n",
    "transportQtd = 2\n",
    "if(mw<10):\n",
    "    valueMv=10\n",
    "elif(mw>=10 and mw<20):\n",
    "    valueMv=11.5\n",
    "else:\n",
    "    valueMv=13\n",
    "\n",
    "total= (valueMv*mw)+ (transportQtd*transport)+alimentation\n",
    "print(f\" the total is { total}\")"
   ]
  },
  {
   "cell_type": "code",
   "execution_count": 11,
   "metadata": {},
   "outputs": [
    {
     "data": {
      "text/plain": [
       "'Escreva um programa que retorna a soma dos termos de uma Progressão Aritmética de n\\ntermos, com termo inicial a razão real r. Peça os valores do usuário.'"
      ]
     },
     "execution_count": 11,
     "metadata": {},
     "output_type": "execute_result"
    }
   ],
   "source": [
    "#EX16\n",
    "\n",
    "#Escreva um programa que retorna a soma dos termos de uma Progressão Aritmética de n termos, com termo inicial a razão real r. Peça os valores do usuário.\"\"\""
   ]
  },
  {
   "cell_type": "code",
   "execution_count": 12,
   "metadata": {},
   "outputs": [
    {
     "data": {
      "text/plain": [
       "'Escreva um programa que escreve na tela todos os múltiplos de n entre 0 e x, inclusive,\\nseparados por vírgula.'"
      ]
     },
     "execution_count": 12,
     "metadata": {},
     "output_type": "execute_result"
    }
   ],
   "source": [
    "#EX17\n",
    "\n",
    "\"\"\"Escreva um programa que escreve na tela todos os múltiplos de n entre 0 e x, inclusive,\n",
    "separados por vírgula.\"\"\""
   ]
  },
  {
   "cell_type": "code",
   "execution_count": 13,
   "metadata": {},
   "outputs": [
    {
     "data": {
      "text/plain": [
       "'No mesmo script, escreva funções que realizem as instruções a seguir. No programa principal, escreva um menu que permita ao usuário escolher entre as funções. Retorne ao\\nmenu principal ao final de cada execução. Inclua uma opção “Sair” no seu menu,\\ne encerre o programa somente quando o usuário selecionar essa opção.\\n\\n18.1.primo(x): Recebe um inteiro e imprime se ele é primo ou não.\\n\\n18.2.mmc(x, y): Recebe dois inteiros e calcula o mínimo múltiplo comum (MMC) entre\\neles\\n\\n18.3.soma_digitos(x): Recebe um valor inteiro de qualquer tamanho e imprime a soma\\ndos seus dígitos. Note que sua solução deve ser aritmética, não serão aceitas\\nsoluções com strings.\\nEntrada Saída\\n20\\n1\\n2.7\\n\\n533\\n\\nEntrada Saída\\n3\\n21\\n\\n0, 3, 6, 9, 12, 15, 18, 21\\n\\nTECNOLOGIAS DE PROGRAMAÇÃO 8\\n\\n18.4.nesimo_primo(n): Recebe um inteiro n e imprime qual o n-ésimo valor primo\\nexistente.\\n\\n18.5. hora (h, m, s): Recebe três inteiros h, m e s, correspondentes a hora, minuto e\\nsegundo e imprime o horário um segundo depois.'"
      ]
     },
     "execution_count": 13,
     "metadata": {},
     "output_type": "execute_result"
    }
   ],
   "source": [
    "#EX18\n",
    "\n",
    "\"\"\"No mesmo script, escreva funções que realizem as instruções a seguir. No programa principal, escreva um menu que permita ao usuário escolher entre as funções. Retorne ao\n",
    "menu principal ao final de cada execução. Inclua uma opção “Sair” no seu menu,\n",
    "e encerre o programa somente quando o usuário selecionar essa opção.\n",
    "\n",
    "18.1.primo(x): Recebe um inteiro e imprime se ele é primo ou não.\n",
    "\n",
    "18.2.mmc(x, y): Recebe dois inteiros e calcula o mínimo múltiplo comum (MMC) entre\n",
    "eles\n",
    "\n",
    "18.3.soma_digitos(x): Recebe um valor inteiro de qualquer tamanho e imprime a soma\n",
    "dos seus dígitos. Note que sua solução deve ser aritmética, não serão aceitas\n",
    "soluções com strings.\n",
    "Entrada Saída\n",
    "20\n",
    "1\n",
    "2.7\n",
    "\n",
    "533\n",
    "\n",
    "Entrada Saída\n",
    "3\n",
    "21\n",
    "\n",
    "0, 3, 6, 9, 12, 15, 18, 21\n",
    "\n",
    "TECNOLOGIAS DE PROGRAMAÇÃO 8\n",
    "\n",
    "18.4.nesimo_primo(n): Recebe um inteiro n e imprime qual o n-ésimo valor primo\n",
    "existente.\n",
    "\n",
    "18.5. hora (h, m, s): Recebe três inteiros h, m e s, correspondentes a hora, minuto e\n",
    "segundo e imprime o horário um segundo depois.\"\"\"\n",
    "\n",
    "\n"
   ]
  }
 ],
 "metadata": {
  "kernelspec": {
   "display_name": "Python 3",
   "language": "python",
   "name": "python3"
  },
  "language_info": {
   "codemirror_mode": {
    "name": "ipython",
    "version": 3
   },
   "file_extension": ".py",
   "mimetype": "text/x-python",
   "name": "python",
   "nbconvert_exporter": "python",
   "pygments_lexer": "ipython3",
   "version": "3.8.10"
  },
  "orig_nbformat": 4
 },
 "nbformat": 4,
 "nbformat_minor": 2
}
